{
 "cells": [
  {
   "cell_type": "markdown",
   "id": "ad4e0166-accf-4087-918a-49ff6abcc841",
   "metadata": {},
   "source": [
    "## Q1. Create a function which will take a list as an argument and return the product of all the numbers  after creating a flat list. Use the below-given list as an argument for your function. \n",
    "list1 = [1,2,3,4, [44,55,66, True], False, (34,56,78,89,34), {1,2,3,3,2,1}, {1:34, \"key2\": [55, 67, 78, 89], 4: (45,  22, 61, 34)}, [56, 'data science'], 'Machine Learning'] \n",
    "Note: you must extract numeric keys and values of the dictionary also. \n"
   ]
  },
  {
   "cell_type": "code",
   "execution_count": 2,
   "id": "1c8d63c9-abbb-4301-abb9-465ae0a7b2c6",
   "metadata": {},
   "outputs": [],
   "source": [
    "list1 = [1,2,3,4, [44,55,66, True], False, (34,56,78,89,34), {1,2,3,3,2,1}, {1:34, \"key2\": [55, 67, 78, 89], 4: (45, 22, 61, 34)}, [56, 'data science'], 'Machine Learning']"
   ]
  },
  {
   "cell_type": "code",
   "execution_count": 3,
   "id": "989c12e1-ae49-4dc4-b7e2-b53e3cd1ba9d",
   "metadata": {},
   "outputs": [],
   "source": [
    "from functools import  reduce"
   ]
  },
  {
   "cell_type": "code",
   "execution_count": 4,
   "id": "45ed63a6-92a9-4d66-8934-3fd446472bcb",
   "metadata": {},
   "outputs": [
    {
     "data": {
      "text/plain": [
       "[1,\n",
       " 2,\n",
       " 3,\n",
       " 4,\n",
       " [44, 55, 66, True],\n",
       " False,\n",
       " (34, 56, 78, 89, 34),\n",
       " {1, 2, 3},\n",
       " {1: 34, 'key2': [55, 67, 78, 89], 4: (45, 22, 61, 34)},\n",
       " [56, 'data science'],\n",
       " 'Machine Learning']"
      ]
     },
     "execution_count": 4,
     "metadata": {},
     "output_type": "execute_result"
    }
   ],
   "source": [
    "reduce(lambda x , y : x*y , [list1])"
   ]
  },
  {
   "cell_type": "markdown",
   "id": "83b758e2-7c7f-42ae-8a80-f45c9c9cca20",
   "metadata": {},
   "source": [
    "## Q2. Write a python program for encrypting a message sent to you by your friend. The logic of encryption should be such that, for a the output should be z. For b, the output should be y. For c, the output should be x respectively. Also, the whitespace should be replaced with a dollar sign. Keep the punctuation marks unchanged.Input Sentence: I want to become a Data Scientist.Encrypt the above input sentence using the program you just created.\n",
    "Note: Convert the given input sentence into lowercase before encrypting. The final output should be\n",
    "lowercase."
   ]
  },
  {
   "cell_type": "code",
   "execution_count": 13,
   "id": "608faf14-ba0b-4927-8fb8-486dbcb78e0e",
   "metadata": {},
   "outputs": [],
   "source": [
    "str1=\"I want to become a Data Scientist\""
   ]
  },
  {
   "cell_type": "code",
   "execution_count": 14,
   "id": "e921777b-25ea-4d0b-83b5-09dd7bea5df4",
   "metadata": {},
   "outputs": [],
   "source": [
    "str1=str1.lower()"
   ]
  },
  {
   "cell_type": "code",
   "execution_count": 17,
   "id": "689c23e8-850a-4dc2-908f-c8f42850398a",
   "metadata": {},
   "outputs": [],
   "source": [
    "def encripted(string):\n",
    "    ciper=''\n",
    "    for char in string:\n",
    "        if char==' ':\n",
    "            ciper=ciper+\"$\"\n",
    "        else:\n",
    "            ciper=ciper+chr(26-((ord(char)-96)%26)+98)\n",
    "    return ciper"
   ]
  },
  {
   "cell_type": "code",
   "execution_count": 19,
   "id": "ab0c8be8-c51a-40a0-a7b5-57281f76f4fc",
   "metadata": {},
   "outputs": [
    {
     "name": "stdout",
     "output_type": "stream",
     "text": [
      "The original input sentence: i want to become a data scientist\n",
      "The encripted output sentense: s$e{nh$hm$zwymow${$x{h{$iyswnhsih\n"
     ]
    }
   ],
   "source": [
    "print(\"The original input sentence:\",str1)\n",
    "print(\"The encripted output sentense:\",encripted(str1))"
   ]
  },
  {
   "cell_type": "code",
   "execution_count": null,
   "id": "4ddb4447-bb58-4945-81fd-a2ef5e0254f9",
   "metadata": {},
   "outputs": [],
   "source": []
  }
 ],
 "metadata": {
  "kernelspec": {
   "display_name": "Python 3 (ipykernel)",
   "language": "python",
   "name": "python3"
  },
  "language_info": {
   "codemirror_mode": {
    "name": "ipython",
    "version": 3
   },
   "file_extension": ".py",
   "mimetype": "text/x-python",
   "name": "python",
   "nbconvert_exporter": "python",
   "pygments_lexer": "ipython3",
   "version": "3.10.8"
  }
 },
 "nbformat": 4,
 "nbformat_minor": 5
}
